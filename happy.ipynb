{
  "metadata": {
    "kernelspec": {
      "name": "python",
      "display_name": "Python (Pyodide)",
      "language": "python"
    },
    "language_info": {
      "codemirror_mode": {
        "name": "python",
        "version": 3
      },
      "file_extension": ".py",
      "mimetype": "text/x-python",
      "name": "python",
      "nbconvert_exporter": "python",
      "pygments_lexer": "ipython3",
      "version": "3.8"
    }
  },
  "nbformat_minor": 4,
  "nbformat": 4,
  "cells": [
    {
      "cell_type": "code",
      "source": "import pandas as pd",
      "metadata": {
        "trusted": true
      },
      "outputs": [],
      "execution_count": 1
    },
    {
      "cell_type": "code",
      "source": "import numpy as np",
      "metadata": {
        "trusted": true
      },
      "outputs": [],
      "execution_count": 2
    },
    {
      "cell_type": "code",
      "source": "df = pd.read_csv('world-happiness-report-2021.csv')",
      "metadata": {
        "trusted": true
      },
      "outputs": [],
      "execution_count": 4
    },
    {
      "cell_type": "code",
      "source": "df.head(10)",
      "metadata": {
        "trusted": true
      },
      "outputs": [
        {
          "execution_count": 6,
          "output_type": "execute_result",
          "data": {
            "text/plain": "  Country name     Regional indicator  Ladder score  \\\n0      Finland         Western Europe         7.842   \n1      Denmark         Western Europe         7.620   \n2  Switzerland         Western Europe         7.571   \n3      Iceland         Western Europe         7.554   \n4  Netherlands         Western Europe         7.464   \n5       Norway         Western Europe         7.392   \n6       Sweden         Western Europe         7.363   \n7   Luxembourg         Western Europe         7.324   \n8  New Zealand  North America and ANZ         7.277   \n9      Austria         Western Europe         7.268   \n\n   Standard error of ladder score  upperwhisker  lowerwhisker  \\\n0                           0.032         7.904         7.780   \n1                           0.035         7.687         7.552   \n2                           0.036         7.643         7.500   \n3                           0.059         7.670         7.438   \n4                           0.027         7.518         7.410   \n5                           0.035         7.462         7.323   \n6                           0.036         7.433         7.293   \n7                           0.037         7.396         7.252   \n8                           0.040         7.355         7.198   \n9                           0.036         7.337         7.198   \n\n   Logged GDP per capita  Social support  Healthy life expectancy  \\\n0                 10.775           0.954                     72.0   \n1                 10.933           0.954                     72.7   \n2                 11.117           0.942                     74.4   \n3                 10.878           0.983                     73.0   \n4                 10.932           0.942                     72.4   \n5                 11.053           0.954                     73.3   \n6                 10.867           0.934                     72.7   \n7                 11.647           0.908                     72.6   \n8                 10.643           0.948                     73.4   \n9                 10.906           0.934                     73.3   \n\n   Freedom to make life choices  Generosity  Perceptions of corruption  \\\n0                         0.949      -0.098                      0.186   \n1                         0.946       0.030                      0.179   \n2                         0.919       0.025                      0.292   \n3                         0.955       0.160                      0.673   \n4                         0.913       0.175                      0.338   \n5                         0.960       0.093                      0.270   \n6                         0.945       0.086                      0.237   \n7                         0.907      -0.034                      0.386   \n8                         0.929       0.134                      0.242   \n9                         0.908       0.042                      0.481   \n\n   Ladder score in Dystopia  Explained by: Log GDP per capita  \\\n0                      2.43                             1.446   \n1                      2.43                             1.502   \n2                      2.43                             1.566   \n3                      2.43                             1.482   \n4                      2.43                             1.501   \n5                      2.43                             1.543   \n6                      2.43                             1.478   \n7                      2.43                             1.751   \n8                      2.43                             1.400   \n9                      2.43                             1.492   \n\n   Explained by: Social support  Explained by: Healthy life expectancy  \\\n0                         1.106                                  0.741   \n1                         1.108                                  0.763   \n2                         1.079                                  0.816   \n3                         1.172                                  0.772   \n4                         1.079                                  0.753   \n5                         1.108                                  0.782   \n6                         1.062                                  0.763   \n7                         1.003                                  0.760   \n8                         1.094                                  0.785   \n9                         1.062                                  0.782   \n\n   Explained by: Freedom to make life choices  Explained by: Generosity  \\\n0                                       0.691                     0.124   \n1                                       0.686                     0.208   \n2                                       0.653                     0.204   \n3                                       0.698                     0.293   \n4                                       0.647                     0.302   \n5                                       0.703                     0.249   \n6                                       0.685                     0.244   \n7                                       0.639                     0.166   \n8                                       0.665                     0.276   \n9                                       0.640                     0.215   \n\n   Explained by: Perceptions of corruption  Dystopia + residual  \n0                                    0.481                3.253  \n1                                    0.485                2.868  \n2                                    0.413                2.839  \n3                                    0.170                2.967  \n4                                    0.384                2.798  \n5                                    0.427                2.580  \n6                                    0.448                2.683  \n7                                    0.353                2.653  \n8                                    0.445                2.612  \n9                                    0.292                2.784  ",
            "text/html": "<div>\n<style scoped>\n    .dataframe tbody tr th:only-of-type {\n        vertical-align: middle;\n    }\n\n    .dataframe tbody tr th {\n        vertical-align: top;\n    }\n\n    .dataframe thead th {\n        text-align: right;\n    }\n</style>\n<table border=\"1\" class=\"dataframe\">\n  <thead>\n    <tr style=\"text-align: right;\">\n      <th></th>\n      <th>Country name</th>\n      <th>Regional indicator</th>\n      <th>Ladder score</th>\n      <th>Standard error of ladder score</th>\n      <th>upperwhisker</th>\n      <th>lowerwhisker</th>\n      <th>Logged GDP per capita</th>\n      <th>Social support</th>\n      <th>Healthy life expectancy</th>\n      <th>Freedom to make life choices</th>\n      <th>Generosity</th>\n      <th>Perceptions of corruption</th>\n      <th>Ladder score in Dystopia</th>\n      <th>Explained by: Log GDP per capita</th>\n      <th>Explained by: Social support</th>\n      <th>Explained by: Healthy life expectancy</th>\n      <th>Explained by: Freedom to make life choices</th>\n      <th>Explained by: Generosity</th>\n      <th>Explained by: Perceptions of corruption</th>\n      <th>Dystopia + residual</th>\n    </tr>\n  </thead>\n  <tbody>\n    <tr>\n      <th>0</th>\n      <td>Finland</td>\n      <td>Western Europe</td>\n      <td>7.842</td>\n      <td>0.032</td>\n      <td>7.904</td>\n      <td>7.780</td>\n      <td>10.775</td>\n      <td>0.954</td>\n      <td>72.0</td>\n      <td>0.949</td>\n      <td>-0.098</td>\n      <td>0.186</td>\n      <td>2.43</td>\n      <td>1.446</td>\n      <td>1.106</td>\n      <td>0.741</td>\n      <td>0.691</td>\n      <td>0.124</td>\n      <td>0.481</td>\n      <td>3.253</td>\n    </tr>\n    <tr>\n      <th>1</th>\n      <td>Denmark</td>\n      <td>Western Europe</td>\n      <td>7.620</td>\n      <td>0.035</td>\n      <td>7.687</td>\n      <td>7.552</td>\n      <td>10.933</td>\n      <td>0.954</td>\n      <td>72.7</td>\n      <td>0.946</td>\n      <td>0.030</td>\n      <td>0.179</td>\n      <td>2.43</td>\n      <td>1.502</td>\n      <td>1.108</td>\n      <td>0.763</td>\n      <td>0.686</td>\n      <td>0.208</td>\n      <td>0.485</td>\n      <td>2.868</td>\n    </tr>\n    <tr>\n      <th>2</th>\n      <td>Switzerland</td>\n      <td>Western Europe</td>\n      <td>7.571</td>\n      <td>0.036</td>\n      <td>7.643</td>\n      <td>7.500</td>\n      <td>11.117</td>\n      <td>0.942</td>\n      <td>74.4</td>\n      <td>0.919</td>\n      <td>0.025</td>\n      <td>0.292</td>\n      <td>2.43</td>\n      <td>1.566</td>\n      <td>1.079</td>\n      <td>0.816</td>\n      <td>0.653</td>\n      <td>0.204</td>\n      <td>0.413</td>\n      <td>2.839</td>\n    </tr>\n    <tr>\n      <th>3</th>\n      <td>Iceland</td>\n      <td>Western Europe</td>\n      <td>7.554</td>\n      <td>0.059</td>\n      <td>7.670</td>\n      <td>7.438</td>\n      <td>10.878</td>\n      <td>0.983</td>\n      <td>73.0</td>\n      <td>0.955</td>\n      <td>0.160</td>\n      <td>0.673</td>\n      <td>2.43</td>\n      <td>1.482</td>\n      <td>1.172</td>\n      <td>0.772</td>\n      <td>0.698</td>\n      <td>0.293</td>\n      <td>0.170</td>\n      <td>2.967</td>\n    </tr>\n    <tr>\n      <th>4</th>\n      <td>Netherlands</td>\n      <td>Western Europe</td>\n      <td>7.464</td>\n      <td>0.027</td>\n      <td>7.518</td>\n      <td>7.410</td>\n      <td>10.932</td>\n      <td>0.942</td>\n      <td>72.4</td>\n      <td>0.913</td>\n      <td>0.175</td>\n      <td>0.338</td>\n      <td>2.43</td>\n      <td>1.501</td>\n      <td>1.079</td>\n      <td>0.753</td>\n      <td>0.647</td>\n      <td>0.302</td>\n      <td>0.384</td>\n      <td>2.798</td>\n    </tr>\n    <tr>\n      <th>5</th>\n      <td>Norway</td>\n      <td>Western Europe</td>\n      <td>7.392</td>\n      <td>0.035</td>\n      <td>7.462</td>\n      <td>7.323</td>\n      <td>11.053</td>\n      <td>0.954</td>\n      <td>73.3</td>\n      <td>0.960</td>\n      <td>0.093</td>\n      <td>0.270</td>\n      <td>2.43</td>\n      <td>1.543</td>\n      <td>1.108</td>\n      <td>0.782</td>\n      <td>0.703</td>\n      <td>0.249</td>\n      <td>0.427</td>\n      <td>2.580</td>\n    </tr>\n    <tr>\n      <th>6</th>\n      <td>Sweden</td>\n      <td>Western Europe</td>\n      <td>7.363</td>\n      <td>0.036</td>\n      <td>7.433</td>\n      <td>7.293</td>\n      <td>10.867</td>\n      <td>0.934</td>\n      <td>72.7</td>\n      <td>0.945</td>\n      <td>0.086</td>\n      <td>0.237</td>\n      <td>2.43</td>\n      <td>1.478</td>\n      <td>1.062</td>\n      <td>0.763</td>\n      <td>0.685</td>\n      <td>0.244</td>\n      <td>0.448</td>\n      <td>2.683</td>\n    </tr>\n    <tr>\n      <th>7</th>\n      <td>Luxembourg</td>\n      <td>Western Europe</td>\n      <td>7.324</td>\n      <td>0.037</td>\n      <td>7.396</td>\n      <td>7.252</td>\n      <td>11.647</td>\n      <td>0.908</td>\n      <td>72.6</td>\n      <td>0.907</td>\n      <td>-0.034</td>\n      <td>0.386</td>\n      <td>2.43</td>\n      <td>1.751</td>\n      <td>1.003</td>\n      <td>0.760</td>\n      <td>0.639</td>\n      <td>0.166</td>\n      <td>0.353</td>\n      <td>2.653</td>\n    </tr>\n    <tr>\n      <th>8</th>\n      <td>New Zealand</td>\n      <td>North America and ANZ</td>\n      <td>7.277</td>\n      <td>0.040</td>\n      <td>7.355</td>\n      <td>7.198</td>\n      <td>10.643</td>\n      <td>0.948</td>\n      <td>73.4</td>\n      <td>0.929</td>\n      <td>0.134</td>\n      <td>0.242</td>\n      <td>2.43</td>\n      <td>1.400</td>\n      <td>1.094</td>\n      <td>0.785</td>\n      <td>0.665</td>\n      <td>0.276</td>\n      <td>0.445</td>\n      <td>2.612</td>\n    </tr>\n    <tr>\n      <th>9</th>\n      <td>Austria</td>\n      <td>Western Europe</td>\n      <td>7.268</td>\n      <td>0.036</td>\n      <td>7.337</td>\n      <td>7.198</td>\n      <td>10.906</td>\n      <td>0.934</td>\n      <td>73.3</td>\n      <td>0.908</td>\n      <td>0.042</td>\n      <td>0.481</td>\n      <td>2.43</td>\n      <td>1.492</td>\n      <td>1.062</td>\n      <td>0.782</td>\n      <td>0.640</td>\n      <td>0.215</td>\n      <td>0.292</td>\n      <td>2.784</td>\n    </tr>\n  </tbody>\n</table>\n</div>"
          },
          "metadata": {}
        }
      ],
      "execution_count": 6
    },
    {
      "cell_type": "code",
      "source": "df.info",
      "metadata": {
        "trusted": true
      },
      "outputs": [
        {
          "execution_count": 7,
          "output_type": "execute_result",
          "data": {
            "text/plain": "<bound method DataFrame.info of     Country name  Regional indicator  Ladder score  \\\n0        Finland      Western Europe         7.842   \n1        Denmark      Western Europe         7.620   \n2    Switzerland      Western Europe         7.571   \n3        Iceland      Western Europe         7.554   \n4    Netherlands      Western Europe         7.464   \n..           ...                 ...           ...   \n144      Lesotho  Sub-Saharan Africa         3.512   \n145     Botswana  Sub-Saharan Africa         3.467   \n146       Rwanda  Sub-Saharan Africa         3.415   \n147     Zimbabwe  Sub-Saharan Africa         3.145   \n148  Afghanistan          South Asia         2.523   \n\n     Standard error of ladder score  upperwhisker  lowerwhisker  \\\n0                             0.032         7.904         7.780   \n1                             0.035         7.687         7.552   \n2                             0.036         7.643         7.500   \n3                             0.059         7.670         7.438   \n4                             0.027         7.518         7.410   \n..                              ...           ...           ...   \n144                           0.120         3.748         3.276   \n145                           0.074         3.611         3.322   \n146                           0.068         3.548         3.282   \n147                           0.058         3.259         3.030   \n148                           0.038         2.596         2.449   \n\n     Logged GDP per capita  Social support  Healthy life expectancy  \\\n0                   10.775           0.954                   72.000   \n1                   10.933           0.954                   72.700   \n2                   11.117           0.942                   74.400   \n3                   10.878           0.983                   73.000   \n4                   10.932           0.942                   72.400   \n..                     ...             ...                      ...   \n144                  7.926           0.787                   48.700   \n145                  9.782           0.784                   59.269   \n146                  7.676           0.552                   61.400   \n147                  7.943           0.750                   56.201   \n148                  7.695           0.463                   52.493   \n\n     Freedom to make life choices  Generosity  Perceptions of corruption  \\\n0                           0.949      -0.098                      0.186   \n1                           0.946       0.030                      0.179   \n2                           0.919       0.025                      0.292   \n3                           0.955       0.160                      0.673   \n4                           0.913       0.175                      0.338   \n..                            ...         ...                        ...   \n144                         0.715      -0.131                      0.915   \n145                         0.824      -0.246                      0.801   \n146                         0.897       0.061                      0.167   \n147                         0.677      -0.047                      0.821   \n148                         0.382      -0.102                      0.924   \n\n     Ladder score in Dystopia  Explained by: Log GDP per capita  \\\n0                        2.43                             1.446   \n1                        2.43                             1.502   \n2                        2.43                             1.566   \n3                        2.43                             1.482   \n4                        2.43                             1.501   \n..                        ...                               ...   \n144                      2.43                             0.451   \n145                      2.43                             1.099   \n146                      2.43                             0.364   \n147                      2.43                             0.457   \n148                      2.43                             0.370   \n\n     Explained by: Social support  Explained by: Healthy life expectancy  \\\n0                           1.106                                  0.741   \n1                           1.108                                  0.763   \n2                           1.079                                  0.816   \n3                           1.172                                  0.772   \n4                           1.079                                  0.753   \n..                            ...                                    ...   \n144                         0.731                                  0.007   \n145                         0.724                                  0.340   \n146                         0.202                                  0.407   \n147                         0.649                                  0.243   \n148                         0.000                                  0.126   \n\n     Explained by: Freedom to make life choices  Explained by: Generosity  \\\n0                                         0.691                     0.124   \n1                                         0.686                     0.208   \n2                                         0.653                     0.204   \n3                                         0.698                     0.293   \n4                                         0.647                     0.302   \n..                                          ...                       ...   \n144                                       0.405                     0.103   \n145                                       0.539                     0.027   \n146                                       0.627                     0.227   \n147                                       0.359                     0.157   \n148                                       0.000                     0.122   \n\n     Explained by: Perceptions of corruption  Dystopia + residual  \n0                                      0.481                3.253  \n1                                      0.485                2.868  \n2                                      0.413                2.839  \n3                                      0.170                2.967  \n4                                      0.384                2.798  \n..                                       ...                  ...  \n144                                    0.015                1.800  \n145                                    0.088                0.648  \n146                                    0.493                1.095  \n147                                    0.075                1.205  \n148                                    0.010                1.895  \n\n[149 rows x 20 columns]>"
          },
          "metadata": {}
        }
      ],
      "execution_count": 7
    },
    {
      "cell_type": "code",
      "source": "df.info()",
      "metadata": {
        "trusted": true
      },
      "outputs": [
        {
          "name": "stdout",
          "text": "<class 'pandas.core.frame.DataFrame'>\nRangeIndex: 149 entries, 0 to 148\nData columns (total 20 columns):\n #   Column                                      Non-Null Count  Dtype  \n---  ------                                      --------------  -----  \n 0   Country name                                149 non-null    object \n 1   Regional indicator                          149 non-null    object \n 2   Ladder score                                149 non-null    float64\n 3   Standard error of ladder score              149 non-null    float64\n 4   upperwhisker                                149 non-null    float64\n 5   lowerwhisker                                149 non-null    float64\n 6   Logged GDP per capita                       149 non-null    float64\n 7   Social support                              149 non-null    float64\n 8   Healthy life expectancy                     149 non-null    float64\n 9   Freedom to make life choices                149 non-null    float64\n 10  Generosity                                  149 non-null    float64\n 11  Perceptions of corruption                   149 non-null    float64\n 12  Ladder score in Dystopia                    149 non-null    float64\n 13  Explained by: Log GDP per capita            149 non-null    float64\n 14  Explained by: Social support                149 non-null    float64\n 15  Explained by: Healthy life expectancy       149 non-null    float64\n 16  Explained by: Freedom to make life choices  149 non-null    float64\n 17  Explained by: Generosity                    149 non-null    float64\n 18  Explained by: Perceptions of corruption     149 non-null    float64\n 19  Dystopia + residual                         149 non-null    float64\ndtypes: float64(18), object(2)\nmemory usage: 22.2+ KB\n",
          "output_type": "stream"
        }
      ],
      "execution_count": 8
    },
    {
      "cell_type": "code",
      "source": "df.describe()",
      "metadata": {
        "trusted": true
      },
      "outputs": [
        {
          "execution_count": 9,
          "output_type": "execute_result",
          "data": {
            "text/plain": "       Ladder score  Standard error of ladder score  upperwhisker  \\\ncount    149.000000                      149.000000    149.000000   \nmean       5.532839                        0.058752      5.648007   \nstd        1.073924                        0.022001      1.054330   \nmin        2.523000                        0.026000      2.596000   \n25%        4.852000                        0.043000      4.991000   \n50%        5.534000                        0.054000      5.625000   \n75%        6.255000                        0.070000      6.344000   \nmax        7.842000                        0.173000      7.904000   \n\n       lowerwhisker  Logged GDP per capita  Social support  \\\ncount    149.000000             149.000000      149.000000   \nmean       5.417631               9.432208        0.814745   \nstd        1.094879               1.158601        0.114889   \nmin        2.449000               6.635000        0.463000   \n25%        4.706000               8.541000        0.750000   \n50%        5.413000               9.569000        0.832000   \n75%        6.128000              10.421000        0.905000   \nmax        7.780000              11.647000        0.983000   \n\n       Healthy life expectancy  Freedom to make life choices  Generosity  \\\ncount               149.000000                    149.000000  149.000000   \nmean                 64.992799                      0.791597   -0.015134   \nstd                   6.762043                      0.113332    0.150657   \nmin                  48.478000                      0.382000   -0.288000   \n25%                  59.802000                      0.718000   -0.126000   \n50%                  66.603000                      0.804000   -0.036000   \n75%                  69.600000                      0.877000    0.079000   \nmax                  76.953000                      0.970000    0.542000   \n\n       Perceptions of corruption  Ladder score in Dystopia  \\\ncount                 149.000000                    149.00   \nmean                    0.727450                      2.43   \nstd                     0.179226                      0.00   \nmin                     0.082000                      2.43   \n25%                     0.667000                      2.43   \n50%                     0.781000                      2.43   \n75%                     0.845000                      2.43   \nmax                     0.939000                      2.43   \n\n       Explained by: Log GDP per capita  Explained by: Social support  \\\ncount                        149.000000                    149.000000   \nmean                           0.977161                      0.793315   \nstd                            0.404740                      0.258871   \nmin                            0.000000                      0.000000   \n25%                            0.666000                      0.647000   \n50%                            1.025000                      0.832000   \n75%                            1.323000                      0.996000   \nmax                            1.751000                      1.172000   \n\n       Explained by: Healthy life expectancy  \\\ncount                             149.000000   \nmean                                0.520161   \nstd                                 0.213019   \nmin                                 0.000000   \n25%                                 0.357000   \n50%                                 0.571000   \n75%                                 0.665000   \nmax                                 0.897000   \n\n       Explained by: Freedom to make life choices  Explained by: Generosity  \\\ncount                                  149.000000                149.000000   \nmean                                     0.498711                  0.178047   \nstd                                      0.137888                  0.098270   \nmin                                      0.000000                  0.000000   \n25%                                      0.409000                  0.105000   \n50%                                      0.514000                  0.164000   \n75%                                      0.603000                  0.239000   \nmax                                      0.716000                  0.541000   \n\n       Explained by: Perceptions of corruption  Dystopia + residual  \ncount                               149.000000           149.000000  \nmean                                  0.135141             2.430329  \nstd                                   0.114361             0.537645  \nmin                                   0.000000             0.648000  \n25%                                   0.060000             2.138000  \n50%                                   0.101000             2.509000  \n75%                                   0.174000             2.794000  \nmax                                   0.547000             3.482000  ",
            "text/html": "<div>\n<style scoped>\n    .dataframe tbody tr th:only-of-type {\n        vertical-align: middle;\n    }\n\n    .dataframe tbody tr th {\n        vertical-align: top;\n    }\n\n    .dataframe thead th {\n        text-align: right;\n    }\n</style>\n<table border=\"1\" class=\"dataframe\">\n  <thead>\n    <tr style=\"text-align: right;\">\n      <th></th>\n      <th>Ladder score</th>\n      <th>Standard error of ladder score</th>\n      <th>upperwhisker</th>\n      <th>lowerwhisker</th>\n      <th>Logged GDP per capita</th>\n      <th>Social support</th>\n      <th>Healthy life expectancy</th>\n      <th>Freedom to make life choices</th>\n      <th>Generosity</th>\n      <th>Perceptions of corruption</th>\n      <th>Ladder score in Dystopia</th>\n      <th>Explained by: Log GDP per capita</th>\n      <th>Explained by: Social support</th>\n      <th>Explained by: Healthy life expectancy</th>\n      <th>Explained by: Freedom to make life choices</th>\n      <th>Explained by: Generosity</th>\n      <th>Explained by: Perceptions of corruption</th>\n      <th>Dystopia + residual</th>\n    </tr>\n  </thead>\n  <tbody>\n    <tr>\n      <th>count</th>\n      <td>149.000000</td>\n      <td>149.000000</td>\n      <td>149.000000</td>\n      <td>149.000000</td>\n      <td>149.000000</td>\n      <td>149.000000</td>\n      <td>149.000000</td>\n      <td>149.000000</td>\n      <td>149.000000</td>\n      <td>149.000000</td>\n      <td>149.00</td>\n      <td>149.000000</td>\n      <td>149.000000</td>\n      <td>149.000000</td>\n      <td>149.000000</td>\n      <td>149.000000</td>\n      <td>149.000000</td>\n      <td>149.000000</td>\n    </tr>\n    <tr>\n      <th>mean</th>\n      <td>5.532839</td>\n      <td>0.058752</td>\n      <td>5.648007</td>\n      <td>5.417631</td>\n      <td>9.432208</td>\n      <td>0.814745</td>\n      <td>64.992799</td>\n      <td>0.791597</td>\n      <td>-0.015134</td>\n      <td>0.727450</td>\n      <td>2.43</td>\n      <td>0.977161</td>\n      <td>0.793315</td>\n      <td>0.520161</td>\n      <td>0.498711</td>\n      <td>0.178047</td>\n      <td>0.135141</td>\n      <td>2.430329</td>\n    </tr>\n    <tr>\n      <th>std</th>\n      <td>1.073924</td>\n      <td>0.022001</td>\n      <td>1.054330</td>\n      <td>1.094879</td>\n      <td>1.158601</td>\n      <td>0.114889</td>\n      <td>6.762043</td>\n      <td>0.113332</td>\n      <td>0.150657</td>\n      <td>0.179226</td>\n      <td>0.00</td>\n      <td>0.404740</td>\n      <td>0.258871</td>\n      <td>0.213019</td>\n      <td>0.137888</td>\n      <td>0.098270</td>\n      <td>0.114361</td>\n      <td>0.537645</td>\n    </tr>\n    <tr>\n      <th>min</th>\n      <td>2.523000</td>\n      <td>0.026000</td>\n      <td>2.596000</td>\n      <td>2.449000</td>\n      <td>6.635000</td>\n      <td>0.463000</td>\n      <td>48.478000</td>\n      <td>0.382000</td>\n      <td>-0.288000</td>\n      <td>0.082000</td>\n      <td>2.43</td>\n      <td>0.000000</td>\n      <td>0.000000</td>\n      <td>0.000000</td>\n      <td>0.000000</td>\n      <td>0.000000</td>\n      <td>0.000000</td>\n      <td>0.648000</td>\n    </tr>\n    <tr>\n      <th>25%</th>\n      <td>4.852000</td>\n      <td>0.043000</td>\n      <td>4.991000</td>\n      <td>4.706000</td>\n      <td>8.541000</td>\n      <td>0.750000</td>\n      <td>59.802000</td>\n      <td>0.718000</td>\n      <td>-0.126000</td>\n      <td>0.667000</td>\n      <td>2.43</td>\n      <td>0.666000</td>\n      <td>0.647000</td>\n      <td>0.357000</td>\n      <td>0.409000</td>\n      <td>0.105000</td>\n      <td>0.060000</td>\n      <td>2.138000</td>\n    </tr>\n    <tr>\n      <th>50%</th>\n      <td>5.534000</td>\n      <td>0.054000</td>\n      <td>5.625000</td>\n      <td>5.413000</td>\n      <td>9.569000</td>\n      <td>0.832000</td>\n      <td>66.603000</td>\n      <td>0.804000</td>\n      <td>-0.036000</td>\n      <td>0.781000</td>\n      <td>2.43</td>\n      <td>1.025000</td>\n      <td>0.832000</td>\n      <td>0.571000</td>\n      <td>0.514000</td>\n      <td>0.164000</td>\n      <td>0.101000</td>\n      <td>2.509000</td>\n    </tr>\n    <tr>\n      <th>75%</th>\n      <td>6.255000</td>\n      <td>0.070000</td>\n      <td>6.344000</td>\n      <td>6.128000</td>\n      <td>10.421000</td>\n      <td>0.905000</td>\n      <td>69.600000</td>\n      <td>0.877000</td>\n      <td>0.079000</td>\n      <td>0.845000</td>\n      <td>2.43</td>\n      <td>1.323000</td>\n      <td>0.996000</td>\n      <td>0.665000</td>\n      <td>0.603000</td>\n      <td>0.239000</td>\n      <td>0.174000</td>\n      <td>2.794000</td>\n    </tr>\n    <tr>\n      <th>max</th>\n      <td>7.842000</td>\n      <td>0.173000</td>\n      <td>7.904000</td>\n      <td>7.780000</td>\n      <td>11.647000</td>\n      <td>0.983000</td>\n      <td>76.953000</td>\n      <td>0.970000</td>\n      <td>0.542000</td>\n      <td>0.939000</td>\n      <td>2.43</td>\n      <td>1.751000</td>\n      <td>1.172000</td>\n      <td>0.897000</td>\n      <td>0.716000</td>\n      <td>0.541000</td>\n      <td>0.547000</td>\n      <td>3.482000</td>\n    </tr>\n  </tbody>\n</table>\n</div>"
          },
          "metadata": {}
        }
      ],
      "execution_count": 9
    },
    {
      "cell_type": "code",
      "source": "df.uniques()",
      "metadata": {
        "trusted": true
      },
      "outputs": [
        {
          "ename": "<class 'AttributeError'>",
          "evalue": "'DataFrame' object has no attribute 'uniques'",
          "traceback": [
            "\u001b[0;31m---------------------------------------------------------------------------\u001b[0m",
            "\u001b[0;31mAttributeError\u001b[0m                            Traceback (most recent call last)",
            "\u001b[0;32m<ipython-input-10-2a5d7afb02a2>\u001b[0m in \u001b[0;36m?\u001b[0;34m()\u001b[0m\n\u001b[0;32m----> 1\u001b[0;31m \u001b[0mdf\u001b[0m\u001b[0;34m.\u001b[0m\u001b[0muniques\u001b[0m\u001b[0;34m(\u001b[0m\u001b[0;34m)\u001b[0m\u001b[0;34m\u001b[0m\u001b[0;34m\u001b[0m\u001b[0m\n\u001b[0m",
            "\u001b[0;32m/lib/python3.11/site-packages/pandas/core/generic.py\u001b[0m in \u001b[0;36m?\u001b[0;34m(self, name)\u001b[0m\n\u001b[1;32m   5898\u001b[0m             \u001b[0;32mand\u001b[0m \u001b[0mname\u001b[0m \u001b[0;32mnot\u001b[0m \u001b[0;32min\u001b[0m \u001b[0mself\u001b[0m\u001b[0;34m.\u001b[0m\u001b[0m_accessors\u001b[0m\u001b[0;34m\u001b[0m\u001b[0;34m\u001b[0m\u001b[0m\n\u001b[1;32m   5899\u001b[0m             \u001b[0;32mand\u001b[0m \u001b[0mself\u001b[0m\u001b[0;34m.\u001b[0m\u001b[0m_info_axis\u001b[0m\u001b[0;34m.\u001b[0m\u001b[0m_can_hold_identifiers_and_holds_name\u001b[0m\u001b[0;34m(\u001b[0m\u001b[0mname\u001b[0m\u001b[0;34m)\u001b[0m\u001b[0;34m\u001b[0m\u001b[0;34m\u001b[0m\u001b[0m\n\u001b[1;32m   5900\u001b[0m         ):\n\u001b[1;32m   5901\u001b[0m             \u001b[0;32mreturn\u001b[0m \u001b[0mself\u001b[0m\u001b[0;34m[\u001b[0m\u001b[0mname\u001b[0m\u001b[0;34m]\u001b[0m\u001b[0;34m\u001b[0m\u001b[0;34m\u001b[0m\u001b[0m\n\u001b[0;32m-> 5902\u001b[0;31m         \u001b[0;32mreturn\u001b[0m \u001b[0mobject\u001b[0m\u001b[0;34m.\u001b[0m\u001b[0m__getattribute__\u001b[0m\u001b[0;34m(\u001b[0m\u001b[0mself\u001b[0m\u001b[0;34m,\u001b[0m \u001b[0mname\u001b[0m\u001b[0;34m)\u001b[0m\u001b[0;34m\u001b[0m\u001b[0;34m\u001b[0m\u001b[0m\n\u001b[0m",
            "\u001b[0;31mAttributeError\u001b[0m: 'DataFrame' object has no attribute 'uniques'"
          ],
          "output_type": "error"
        }
      ],
      "execution_count": 10
    },
    {
      "cell_type": "code",
      "source": "df.unique()",
      "metadata": {
        "trusted": true
      },
      "outputs": [
        {
          "ename": "<class 'AttributeError'>",
          "evalue": "'DataFrame' object has no attribute 'unique'",
          "traceback": [
            "\u001b[0;31m---------------------------------------------------------------------------\u001b[0m",
            "\u001b[0;31mAttributeError\u001b[0m                            Traceback (most recent call last)",
            "\u001b[0;32m<ipython-input-11-84bc62f43960>\u001b[0m in \u001b[0;36m?\u001b[0;34m()\u001b[0m\n\u001b[0;32m----> 1\u001b[0;31m \u001b[0mdf\u001b[0m\u001b[0;34m.\u001b[0m\u001b[0munique\u001b[0m\u001b[0;34m(\u001b[0m\u001b[0;34m)\u001b[0m\u001b[0;34m\u001b[0m\u001b[0;34m\u001b[0m\u001b[0m\n\u001b[0m",
            "\u001b[0;32m/lib/python3.11/site-packages/pandas/core/generic.py\u001b[0m in \u001b[0;36m?\u001b[0;34m(self, name)\u001b[0m\n\u001b[1;32m   5898\u001b[0m             \u001b[0;32mand\u001b[0m \u001b[0mname\u001b[0m \u001b[0;32mnot\u001b[0m \u001b[0;32min\u001b[0m \u001b[0mself\u001b[0m\u001b[0;34m.\u001b[0m\u001b[0m_accessors\u001b[0m\u001b[0;34m\u001b[0m\u001b[0;34m\u001b[0m\u001b[0m\n\u001b[1;32m   5899\u001b[0m             \u001b[0;32mand\u001b[0m \u001b[0mself\u001b[0m\u001b[0;34m.\u001b[0m\u001b[0m_info_axis\u001b[0m\u001b[0;34m.\u001b[0m\u001b[0m_can_hold_identifiers_and_holds_name\u001b[0m\u001b[0;34m(\u001b[0m\u001b[0mname\u001b[0m\u001b[0;34m)\u001b[0m\u001b[0;34m\u001b[0m\u001b[0;34m\u001b[0m\u001b[0m\n\u001b[1;32m   5900\u001b[0m         ):\n\u001b[1;32m   5901\u001b[0m             \u001b[0;32mreturn\u001b[0m \u001b[0mself\u001b[0m\u001b[0;34m[\u001b[0m\u001b[0mname\u001b[0m\u001b[0;34m]\u001b[0m\u001b[0;34m\u001b[0m\u001b[0;34m\u001b[0m\u001b[0m\n\u001b[0;32m-> 5902\u001b[0;31m         \u001b[0;32mreturn\u001b[0m \u001b[0mobject\u001b[0m\u001b[0;34m.\u001b[0m\u001b[0m__getattribute__\u001b[0m\u001b[0;34m(\u001b[0m\u001b[0mself\u001b[0m\u001b[0;34m,\u001b[0m \u001b[0mname\u001b[0m\u001b[0;34m)\u001b[0m\u001b[0;34m\u001b[0m\u001b[0;34m\u001b[0m\u001b[0m\n\u001b[0m",
            "\u001b[0;31mAttributeError\u001b[0m: 'DataFrame' object has no attribute 'unique'"
          ],
          "output_type": "error"
        }
      ],
      "execution_count": 11
    },
    {
      "cell_type": "code",
      "source": "df.nunique()",
      "metadata": {
        "trusted": true
      },
      "outputs": [
        {
          "execution_count": 12,
          "output_type": "execute_result",
          "data": {
            "text/plain": "Country name                                  149\nRegional indicator                             10\nLadder score                                  147\nStandard error of ladder score                 65\nupperwhisker                                  146\nlowerwhisker                                  143\nLogged GDP per capita                         148\nSocial support                                119\nHealthy life expectancy                       135\nFreedom to make life choices                  126\nGenerosity                                    130\nPerceptions of corruption                     130\nLadder score in Dystopia                        1\nExplained by: Log GDP per capita              138\nExplained by: Social support                  135\nExplained by: Healthy life expectancy         119\nExplained by: Freedom to make life choices    130\nExplained by: Generosity                      119\nExplained by: Perceptions of corruption       117\nDystopia + residual                           142\ndtype: int64"
          },
          "metadata": {}
        }
      ],
      "execution_count": 12
    },
    {
      "cell_type": "code",
      "source": "df.isnull()",
      "metadata": {
        "trusted": true
      },
      "outputs": [
        {
          "execution_count": 13,
          "output_type": "execute_result",
          "data": {
            "text/plain": "     Country name  Regional indicator  Ladder score  \\\n0           False               False         False   \n1           False               False         False   \n2           False               False         False   \n3           False               False         False   \n4           False               False         False   \n..            ...                 ...           ...   \n144         False               False         False   \n145         False               False         False   \n146         False               False         False   \n147         False               False         False   \n148         False               False         False   \n\n     Standard error of ladder score  upperwhisker  lowerwhisker  \\\n0                             False         False         False   \n1                             False         False         False   \n2                             False         False         False   \n3                             False         False         False   \n4                             False         False         False   \n..                              ...           ...           ...   \n144                           False         False         False   \n145                           False         False         False   \n146                           False         False         False   \n147                           False         False         False   \n148                           False         False         False   \n\n     Logged GDP per capita  Social support  Healthy life expectancy  \\\n0                    False           False                    False   \n1                    False           False                    False   \n2                    False           False                    False   \n3                    False           False                    False   \n4                    False           False                    False   \n..                     ...             ...                      ...   \n144                  False           False                    False   \n145                  False           False                    False   \n146                  False           False                    False   \n147                  False           False                    False   \n148                  False           False                    False   \n\n     Freedom to make life choices  Generosity  Perceptions of corruption  \\\n0                           False       False                      False   \n1                           False       False                      False   \n2                           False       False                      False   \n3                           False       False                      False   \n4                           False       False                      False   \n..                            ...         ...                        ...   \n144                         False       False                      False   \n145                         False       False                      False   \n146                         False       False                      False   \n147                         False       False                      False   \n148                         False       False                      False   \n\n     Ladder score in Dystopia  Explained by: Log GDP per capita  \\\n0                       False                             False   \n1                       False                             False   \n2                       False                             False   \n3                       False                             False   \n4                       False                             False   \n..                        ...                               ...   \n144                     False                             False   \n145                     False                             False   \n146                     False                             False   \n147                     False                             False   \n148                     False                             False   \n\n     Explained by: Social support  Explained by: Healthy life expectancy  \\\n0                           False                                  False   \n1                           False                                  False   \n2                           False                                  False   \n3                           False                                  False   \n4                           False                                  False   \n..                            ...                                    ...   \n144                         False                                  False   \n145                         False                                  False   \n146                         False                                  False   \n147                         False                                  False   \n148                         False                                  False   \n\n     Explained by: Freedom to make life choices  Explained by: Generosity  \\\n0                                         False                     False   \n1                                         False                     False   \n2                                         False                     False   \n3                                         False                     False   \n4                                         False                     False   \n..                                          ...                       ...   \n144                                       False                     False   \n145                                       False                     False   \n146                                       False                     False   \n147                                       False                     False   \n148                                       False                     False   \n\n     Explained by: Perceptions of corruption  Dystopia + residual  \n0                                      False                False  \n1                                      False                False  \n2                                      False                False  \n3                                      False                False  \n4                                      False                False  \n..                                       ...                  ...  \n144                                    False                False  \n145                                    False                False  \n146                                    False                False  \n147                                    False                False  \n148                                    False                False  \n\n[149 rows x 20 columns]",
            "text/html": "<div>\n<style scoped>\n    .dataframe tbody tr th:only-of-type {\n        vertical-align: middle;\n    }\n\n    .dataframe tbody tr th {\n        vertical-align: top;\n    }\n\n    .dataframe thead th {\n        text-align: right;\n    }\n</style>\n<table border=\"1\" class=\"dataframe\">\n  <thead>\n    <tr style=\"text-align: right;\">\n      <th></th>\n      <th>Country name</th>\n      <th>Regional indicator</th>\n      <th>Ladder score</th>\n      <th>Standard error of ladder score</th>\n      <th>upperwhisker</th>\n      <th>lowerwhisker</th>\n      <th>Logged GDP per capita</th>\n      <th>Social support</th>\n      <th>Healthy life expectancy</th>\n      <th>Freedom to make life choices</th>\n      <th>Generosity</th>\n      <th>Perceptions of corruption</th>\n      <th>Ladder score in Dystopia</th>\n      <th>Explained by: Log GDP per capita</th>\n      <th>Explained by: Social support</th>\n      <th>Explained by: Healthy life expectancy</th>\n      <th>Explained by: Freedom to make life choices</th>\n      <th>Explained by: Generosity</th>\n      <th>Explained by: Perceptions of corruption</th>\n      <th>Dystopia + residual</th>\n    </tr>\n  </thead>\n  <tbody>\n    <tr>\n      <th>0</th>\n      <td>False</td>\n      <td>False</td>\n      <td>False</td>\n      <td>False</td>\n      <td>False</td>\n      <td>False</td>\n      <td>False</td>\n      <td>False</td>\n      <td>False</td>\n      <td>False</td>\n      <td>False</td>\n      <td>False</td>\n      <td>False</td>\n      <td>False</td>\n      <td>False</td>\n      <td>False</td>\n      <td>False</td>\n      <td>False</td>\n      <td>False</td>\n      <td>False</td>\n    </tr>\n    <tr>\n      <th>1</th>\n      <td>False</td>\n      <td>False</td>\n      <td>False</td>\n      <td>False</td>\n      <td>False</td>\n      <td>False</td>\n      <td>False</td>\n      <td>False</td>\n      <td>False</td>\n      <td>False</td>\n      <td>False</td>\n      <td>False</td>\n      <td>False</td>\n      <td>False</td>\n      <td>False</td>\n      <td>False</td>\n      <td>False</td>\n      <td>False</td>\n      <td>False</td>\n      <td>False</td>\n    </tr>\n    <tr>\n      <th>2</th>\n      <td>False</td>\n      <td>False</td>\n      <td>False</td>\n      <td>False</td>\n      <td>False</td>\n      <td>False</td>\n      <td>False</td>\n      <td>False</td>\n      <td>False</td>\n      <td>False</td>\n      <td>False</td>\n      <td>False</td>\n      <td>False</td>\n      <td>False</td>\n      <td>False</td>\n      <td>False</td>\n      <td>False</td>\n      <td>False</td>\n      <td>False</td>\n      <td>False</td>\n    </tr>\n    <tr>\n      <th>3</th>\n      <td>False</td>\n      <td>False</td>\n      <td>False</td>\n      <td>False</td>\n      <td>False</td>\n      <td>False</td>\n      <td>False</td>\n      <td>False</td>\n      <td>False</td>\n      <td>False</td>\n      <td>False</td>\n      <td>False</td>\n      <td>False</td>\n      <td>False</td>\n      <td>False</td>\n      <td>False</td>\n      <td>False</td>\n      <td>False</td>\n      <td>False</td>\n      <td>False</td>\n    </tr>\n    <tr>\n      <th>4</th>\n      <td>False</td>\n      <td>False</td>\n      <td>False</td>\n      <td>False</td>\n      <td>False</td>\n      <td>False</td>\n      <td>False</td>\n      <td>False</td>\n      <td>False</td>\n      <td>False</td>\n      <td>False</td>\n      <td>False</td>\n      <td>False</td>\n      <td>False</td>\n      <td>False</td>\n      <td>False</td>\n      <td>False</td>\n      <td>False</td>\n      <td>False</td>\n      <td>False</td>\n    </tr>\n    <tr>\n      <th>...</th>\n      <td>...</td>\n      <td>...</td>\n      <td>...</td>\n      <td>...</td>\n      <td>...</td>\n      <td>...</td>\n      <td>...</td>\n      <td>...</td>\n      <td>...</td>\n      <td>...</td>\n      <td>...</td>\n      <td>...</td>\n      <td>...</td>\n      <td>...</td>\n      <td>...</td>\n      <td>...</td>\n      <td>...</td>\n      <td>...</td>\n      <td>...</td>\n      <td>...</td>\n    </tr>\n    <tr>\n      <th>144</th>\n      <td>False</td>\n      <td>False</td>\n      <td>False</td>\n      <td>False</td>\n      <td>False</td>\n      <td>False</td>\n      <td>False</td>\n      <td>False</td>\n      <td>False</td>\n      <td>False</td>\n      <td>False</td>\n      <td>False</td>\n      <td>False</td>\n      <td>False</td>\n      <td>False</td>\n      <td>False</td>\n      <td>False</td>\n      <td>False</td>\n      <td>False</td>\n      <td>False</td>\n    </tr>\n    <tr>\n      <th>145</th>\n      <td>False</td>\n      <td>False</td>\n      <td>False</td>\n      <td>False</td>\n      <td>False</td>\n      <td>False</td>\n      <td>False</td>\n      <td>False</td>\n      <td>False</td>\n      <td>False</td>\n      <td>False</td>\n      <td>False</td>\n      <td>False</td>\n      <td>False</td>\n      <td>False</td>\n      <td>False</td>\n      <td>False</td>\n      <td>False</td>\n      <td>False</td>\n      <td>False</td>\n    </tr>\n    <tr>\n      <th>146</th>\n      <td>False</td>\n      <td>False</td>\n      <td>False</td>\n      <td>False</td>\n      <td>False</td>\n      <td>False</td>\n      <td>False</td>\n      <td>False</td>\n      <td>False</td>\n      <td>False</td>\n      <td>False</td>\n      <td>False</td>\n      <td>False</td>\n      <td>False</td>\n      <td>False</td>\n      <td>False</td>\n      <td>False</td>\n      <td>False</td>\n      <td>False</td>\n      <td>False</td>\n    </tr>\n    <tr>\n      <th>147</th>\n      <td>False</td>\n      <td>False</td>\n      <td>False</td>\n      <td>False</td>\n      <td>False</td>\n      <td>False</td>\n      <td>False</td>\n      <td>False</td>\n      <td>False</td>\n      <td>False</td>\n      <td>False</td>\n      <td>False</td>\n      <td>False</td>\n      <td>False</td>\n      <td>False</td>\n      <td>False</td>\n      <td>False</td>\n      <td>False</td>\n      <td>False</td>\n      <td>False</td>\n    </tr>\n    <tr>\n      <th>148</th>\n      <td>False</td>\n      <td>False</td>\n      <td>False</td>\n      <td>False</td>\n      <td>False</td>\n      <td>False</td>\n      <td>False</td>\n      <td>False</td>\n      <td>False</td>\n      <td>False</td>\n      <td>False</td>\n      <td>False</td>\n      <td>False</td>\n      <td>False</td>\n      <td>False</td>\n      <td>False</td>\n      <td>False</td>\n      <td>False</td>\n      <td>False</td>\n      <td>False</td>\n    </tr>\n  </tbody>\n</table>\n<p>149 rows × 20 columns</p>\n</div>"
          },
          "metadata": {}
        }
      ],
      "execution_count": 13
    },
    {
      "cell_type": "code",
      "source": "df.isnull().sum()",
      "metadata": {
        "trusted": true
      },
      "outputs": [
        {
          "execution_count": 14,
          "output_type": "execute_result",
          "data": {
            "text/plain": "Country name                                  0\nRegional indicator                            0\nLadder score                                  0\nStandard error of ladder score                0\nupperwhisker                                  0\nlowerwhisker                                  0\nLogged GDP per capita                         0\nSocial support                                0\nHealthy life expectancy                       0\nFreedom to make life choices                  0\nGenerosity                                    0\nPerceptions of corruption                     0\nLadder score in Dystopia                      0\nExplained by: Log GDP per capita              0\nExplained by: Social support                  0\nExplained by: Healthy life expectancy         0\nExplained by: Freedom to make life choices    0\nExplained by: Generosity                      0\nExplained by: Perceptions of corruption       0\nDystopia + residual                           0\ndtype: int64"
          },
          "metadata": {}
        }
      ],
      "execution_count": 14
    },
    {
      "cell_type": "code",
      "source": "df.columns",
      "metadata": {
        "trusted": true
      },
      "outputs": [
        {
          "execution_count": 15,
          "output_type": "execute_result",
          "data": {
            "text/plain": "Index(['Country name', 'Regional indicator', 'Ladder score',\n       'Standard error of ladder score', 'upperwhisker', 'lowerwhisker',\n       'Logged GDP per capita', 'Social support', 'Healthy life expectancy',\n       'Freedom to make life choices', 'Generosity',\n       'Perceptions of corruption', 'Ladder score in Dystopia',\n       'Explained by: Log GDP per capita', 'Explained by: Social support',\n       'Explained by: Healthy life expectancy',\n       'Explained by: Freedom to make life choices',\n       'Explained by: Generosity', 'Explained by: Perceptions of corruption',\n       'Dystopia + residual'],\n      dtype='object')"
          },
          "metadata": {}
        }
      ],
      "execution_count": 15
    },
    {
      "cell_type": "code",
      "source": "df.dtypes",
      "metadata": {
        "trusted": true
      },
      "outputs": [
        {
          "execution_count": 16,
          "output_type": "execute_result",
          "data": {
            "text/plain": "Country name                                   object\nRegional indicator                             object\nLadder score                                  float64\nStandard error of ladder score                float64\nupperwhisker                                  float64\nlowerwhisker                                  float64\nLogged GDP per capita                         float64\nSocial support                                float64\nHealthy life expectancy                       float64\nFreedom to make life choices                  float64\nGenerosity                                    float64\nPerceptions of corruption                     float64\nLadder score in Dystopia                      float64\nExplained by: Log GDP per capita              float64\nExplained by: Social support                  float64\nExplained by: Healthy life expectancy         float64\nExplained by: Freedom to make life choices    float64\nExplained by: Generosity                      float64\nExplained by: Perceptions of corruption       float64\nDystopia + residual                           float64\ndtype: object"
          },
          "metadata": {}
        }
      ],
      "execution_count": 16
    },
    {
      "cell_type": "code",
      "source": "df.head()",
      "metadata": {
        "trusted": true
      },
      "outputs": [
        {
          "execution_count": 17,
          "output_type": "execute_result",
          "data": {
            "text/plain": "  Country name Regional indicator  Ladder score  \\\n0      Finland     Western Europe         7.842   \n1      Denmark     Western Europe         7.620   \n2  Switzerland     Western Europe         7.571   \n3      Iceland     Western Europe         7.554   \n4  Netherlands     Western Europe         7.464   \n\n   Standard error of ladder score  upperwhisker  lowerwhisker  \\\n0                           0.032         7.904         7.780   \n1                           0.035         7.687         7.552   \n2                           0.036         7.643         7.500   \n3                           0.059         7.670         7.438   \n4                           0.027         7.518         7.410   \n\n   Logged GDP per capita  Social support  Healthy life expectancy  \\\n0                 10.775           0.954                     72.0   \n1                 10.933           0.954                     72.7   \n2                 11.117           0.942                     74.4   \n3                 10.878           0.983                     73.0   \n4                 10.932           0.942                     72.4   \n\n   Freedom to make life choices  Generosity  Perceptions of corruption  \\\n0                         0.949      -0.098                      0.186   \n1                         0.946       0.030                      0.179   \n2                         0.919       0.025                      0.292   \n3                         0.955       0.160                      0.673   \n4                         0.913       0.175                      0.338   \n\n   Ladder score in Dystopia  Explained by: Log GDP per capita  \\\n0                      2.43                             1.446   \n1                      2.43                             1.502   \n2                      2.43                             1.566   \n3                      2.43                             1.482   \n4                      2.43                             1.501   \n\n   Explained by: Social support  Explained by: Healthy life expectancy  \\\n0                         1.106                                  0.741   \n1                         1.108                                  0.763   \n2                         1.079                                  0.816   \n3                         1.172                                  0.772   \n4                         1.079                                  0.753   \n\n   Explained by: Freedom to make life choices  Explained by: Generosity  \\\n0                                       0.691                     0.124   \n1                                       0.686                     0.208   \n2                                       0.653                     0.204   \n3                                       0.698                     0.293   \n4                                       0.647                     0.302   \n\n   Explained by: Perceptions of corruption  Dystopia + residual  \n0                                    0.481                3.253  \n1                                    0.485                2.868  \n2                                    0.413                2.839  \n3                                    0.170                2.967  \n4                                    0.384                2.798  ",
            "text/html": "<div>\n<style scoped>\n    .dataframe tbody tr th:only-of-type {\n        vertical-align: middle;\n    }\n\n    .dataframe tbody tr th {\n        vertical-align: top;\n    }\n\n    .dataframe thead th {\n        text-align: right;\n    }\n</style>\n<table border=\"1\" class=\"dataframe\">\n  <thead>\n    <tr style=\"text-align: right;\">\n      <th></th>\n      <th>Country name</th>\n      <th>Regional indicator</th>\n      <th>Ladder score</th>\n      <th>Standard error of ladder score</th>\n      <th>upperwhisker</th>\n      <th>lowerwhisker</th>\n      <th>Logged GDP per capita</th>\n      <th>Social support</th>\n      <th>Healthy life expectancy</th>\n      <th>Freedom to make life choices</th>\n      <th>Generosity</th>\n      <th>Perceptions of corruption</th>\n      <th>Ladder score in Dystopia</th>\n      <th>Explained by: Log GDP per capita</th>\n      <th>Explained by: Social support</th>\n      <th>Explained by: Healthy life expectancy</th>\n      <th>Explained by: Freedom to make life choices</th>\n      <th>Explained by: Generosity</th>\n      <th>Explained by: Perceptions of corruption</th>\n      <th>Dystopia + residual</th>\n    </tr>\n  </thead>\n  <tbody>\n    <tr>\n      <th>0</th>\n      <td>Finland</td>\n      <td>Western Europe</td>\n      <td>7.842</td>\n      <td>0.032</td>\n      <td>7.904</td>\n      <td>7.780</td>\n      <td>10.775</td>\n      <td>0.954</td>\n      <td>72.0</td>\n      <td>0.949</td>\n      <td>-0.098</td>\n      <td>0.186</td>\n      <td>2.43</td>\n      <td>1.446</td>\n      <td>1.106</td>\n      <td>0.741</td>\n      <td>0.691</td>\n      <td>0.124</td>\n      <td>0.481</td>\n      <td>3.253</td>\n    </tr>\n    <tr>\n      <th>1</th>\n      <td>Denmark</td>\n      <td>Western Europe</td>\n      <td>7.620</td>\n      <td>0.035</td>\n      <td>7.687</td>\n      <td>7.552</td>\n      <td>10.933</td>\n      <td>0.954</td>\n      <td>72.7</td>\n      <td>0.946</td>\n      <td>0.030</td>\n      <td>0.179</td>\n      <td>2.43</td>\n      <td>1.502</td>\n      <td>1.108</td>\n      <td>0.763</td>\n      <td>0.686</td>\n      <td>0.208</td>\n      <td>0.485</td>\n      <td>2.868</td>\n    </tr>\n    <tr>\n      <th>2</th>\n      <td>Switzerland</td>\n      <td>Western Europe</td>\n      <td>7.571</td>\n      <td>0.036</td>\n      <td>7.643</td>\n      <td>7.500</td>\n      <td>11.117</td>\n      <td>0.942</td>\n      <td>74.4</td>\n      <td>0.919</td>\n      <td>0.025</td>\n      <td>0.292</td>\n      <td>2.43</td>\n      <td>1.566</td>\n      <td>1.079</td>\n      <td>0.816</td>\n      <td>0.653</td>\n      <td>0.204</td>\n      <td>0.413</td>\n      <td>2.839</td>\n    </tr>\n    <tr>\n      <th>3</th>\n      <td>Iceland</td>\n      <td>Western Europe</td>\n      <td>7.554</td>\n      <td>0.059</td>\n      <td>7.670</td>\n      <td>7.438</td>\n      <td>10.878</td>\n      <td>0.983</td>\n      <td>73.0</td>\n      <td>0.955</td>\n      <td>0.160</td>\n      <td>0.673</td>\n      <td>2.43</td>\n      <td>1.482</td>\n      <td>1.172</td>\n      <td>0.772</td>\n      <td>0.698</td>\n      <td>0.293</td>\n      <td>0.170</td>\n      <td>2.967</td>\n    </tr>\n    <tr>\n      <th>4</th>\n      <td>Netherlands</td>\n      <td>Western Europe</td>\n      <td>7.464</td>\n      <td>0.027</td>\n      <td>7.518</td>\n      <td>7.410</td>\n      <td>10.932</td>\n      <td>0.942</td>\n      <td>72.4</td>\n      <td>0.913</td>\n      <td>0.175</td>\n      <td>0.338</td>\n      <td>2.43</td>\n      <td>1.501</td>\n      <td>1.079</td>\n      <td>0.753</td>\n      <td>0.647</td>\n      <td>0.302</td>\n      <td>0.384</td>\n      <td>2.798</td>\n    </tr>\n  </tbody>\n</table>\n</div>"
          },
          "metadata": {}
        }
      ],
      "execution_count": 17
    },
    {
      "cell_type": "code",
      "source": "for column in df.columns:\n    if df[column].dtype == 'object':  # Prüft nur Spalten, die Text (Strings) enthalten\n        if df[column].str.contains('Germany').any():\n            print(f\"Deutschland gefunden in Spalte: {column}\")\n",
      "metadata": {
        "trusted": true
      },
      "outputs": [
        {
          "name": "stdout",
          "text": "Deutschland gefunden in Spalte: Country name\n",
          "output_type": "stream"
        }
      ],
      "execution_count": 18
    },
    {
      "cell_type": "code",
      "source": "df_germany = df[df['Country name'] == 'Deutschland']",
      "metadata": {
        "trusted": true
      },
      "outputs": [],
      "execution_count": 19
    },
    {
      "cell_type": "code",
      "source": "df_germany",
      "metadata": {
        "trusted": true
      },
      "outputs": [
        {
          "execution_count": 21,
          "output_type": "execute_result",
          "data": {
            "text/plain": "Empty DataFrame\nColumns: [Country name, Regional indicator, Ladder score, Standard error of ladder score, upperwhisker, lowerwhisker, Logged GDP per capita, Social support, Healthy life expectancy, Freedom to make life choices, Generosity, Perceptions of corruption, Ladder score in Dystopia, Explained by: Log GDP per capita, Explained by: Social support, Explained by: Healthy life expectancy, Explained by: Freedom to make life choices, Explained by: Generosity, Explained by: Perceptions of corruption, Dystopia + residual]\nIndex: []",
            "text/html": "<div>\n<style scoped>\n    .dataframe tbody tr th:only-of-type {\n        vertical-align: middle;\n    }\n\n    .dataframe tbody tr th {\n        vertical-align: top;\n    }\n\n    .dataframe thead th {\n        text-align: right;\n    }\n</style>\n<table border=\"1\" class=\"dataframe\">\n  <thead>\n    <tr style=\"text-align: right;\">\n      <th></th>\n      <th>Country name</th>\n      <th>Regional indicator</th>\n      <th>Ladder score</th>\n      <th>Standard error of ladder score</th>\n      <th>upperwhisker</th>\n      <th>lowerwhisker</th>\n      <th>Logged GDP per capita</th>\n      <th>Social support</th>\n      <th>Healthy life expectancy</th>\n      <th>Freedom to make life choices</th>\n      <th>Generosity</th>\n      <th>Perceptions of corruption</th>\n      <th>Ladder score in Dystopia</th>\n      <th>Explained by: Log GDP per capita</th>\n      <th>Explained by: Social support</th>\n      <th>Explained by: Healthy life expectancy</th>\n      <th>Explained by: Freedom to make life choices</th>\n      <th>Explained by: Generosity</th>\n      <th>Explained by: Perceptions of corruption</th>\n      <th>Dystopia + residual</th>\n    </tr>\n  </thead>\n  <tbody>\n  </tbody>\n</table>\n</div>"
          },
          "metadata": {}
        }
      ],
      "execution_count": 21
    },
    {
      "cell_type": "code",
      "source": "deutschland_zeile = df[df['Country name'] == 'Deustchland']\n",
      "metadata": {
        "trusted": true
      },
      "outputs": [],
      "execution_count": 24
    },
    {
      "cell_type": "code",
      "source": "deutschland_zeile.head()",
      "metadata": {
        "trusted": true
      },
      "outputs": [
        {
          "execution_count": 27,
          "output_type": "execute_result",
          "data": {
            "text/plain": "Empty DataFrame\nColumns: [Country name, Regional indicator, Ladder score, Standard error of ladder score, upperwhisker, lowerwhisker, Logged GDP per capita, Social support, Healthy life expectancy, Freedom to make life choices, Generosity, Perceptions of corruption, Ladder score in Dystopia, Explained by: Log GDP per capita, Explained by: Social support, Explained by: Healthy life expectancy, Explained by: Freedom to make life choices, Explained by: Generosity, Explained by: Perceptions of corruption, Dystopia + residual]\nIndex: []",
            "text/html": "<div>\n<style scoped>\n    .dataframe tbody tr th:only-of-type {\n        vertical-align: middle;\n    }\n\n    .dataframe tbody tr th {\n        vertical-align: top;\n    }\n\n    .dataframe thead th {\n        text-align: right;\n    }\n</style>\n<table border=\"1\" class=\"dataframe\">\n  <thead>\n    <tr style=\"text-align: right;\">\n      <th></th>\n      <th>Country name</th>\n      <th>Regional indicator</th>\n      <th>Ladder score</th>\n      <th>Standard error of ladder score</th>\n      <th>upperwhisker</th>\n      <th>lowerwhisker</th>\n      <th>Logged GDP per capita</th>\n      <th>Social support</th>\n      <th>Healthy life expectancy</th>\n      <th>Freedom to make life choices</th>\n      <th>Generosity</th>\n      <th>Perceptions of corruption</th>\n      <th>Ladder score in Dystopia</th>\n      <th>Explained by: Log GDP per capita</th>\n      <th>Explained by: Social support</th>\n      <th>Explained by: Healthy life expectancy</th>\n      <th>Explained by: Freedom to make life choices</th>\n      <th>Explained by: Generosity</th>\n      <th>Explained by: Perceptions of corruption</th>\n      <th>Dystopia + residual</th>\n    </tr>\n  </thead>\n  <tbody>\n  </tbody>\n</table>\n</div>"
          },
          "metadata": {}
        }
      ],
      "execution_count": 27
    },
    {
      "cell_type": "code",
      "source": "deutschland_zeile = df[df['Country name'] == 'Dutschland']\nprint(deutschland_zeile.head())\n",
      "metadata": {
        "trusted": true
      },
      "outputs": [
        {
          "name": "stdout",
          "text": "Empty DataFrame\nColumns: [Country name, Regional indicator, Ladder score, Standard error of ladder score, upperwhisker, lowerwhisker, Logged GDP per capita, Social support, Healthy life expectancy, Freedom to make life choices, Generosity, Perceptions of corruption, Ladder score in Dystopia, Explained by: Log GDP per capita, Explained by: Social support, Explained by: Healthy life expectancy, Explained by: Freedom to make life choices, Explained by: Generosity, Explained by: Perceptions of corruption, Dystopia + residual]\nIndex: []\n",
          "output_type": "stream"
        }
      ],
      "execution_count": 28
    },
    {
      "cell_type": "code",
      "source": "# Angenommen, die Spalte heißt \"Country Name\"\nindices_deutschland = df[df['Country Name'] == 'Germany'].index\n\n# Anzeigen der Index-Werte\nprint(indices_deutschland)\n",
      "metadata": {
        "trusted": true
      },
      "outputs": [
        {
          "ename": "<class 'KeyError'>",
          "evalue": "'Country Name'",
          "traceback": [
            "\u001b[0;31m---------------------------------------------------------------------------\u001b[0m",
            "\u001b[0;31mKeyError\u001b[0m                                  Traceback (most recent call last)",
            "File \u001b[0;32m/lib/python3.11/site-packages/pandas/core/indexes/base.py:3802\u001b[0m, in \u001b[0;36mIndex.get_loc\u001b[0;34m(self, key, method, tolerance)\u001b[0m\n\u001b[1;32m   3801\u001b[0m \u001b[38;5;28;01mtry\u001b[39;00m:\n\u001b[0;32m-> 3802\u001b[0m     \u001b[38;5;28;01mreturn\u001b[39;00m \u001b[38;5;28;43mself\u001b[39;49m\u001b[38;5;241;43m.\u001b[39;49m\u001b[43m_engine\u001b[49m\u001b[38;5;241;43m.\u001b[39;49m\u001b[43mget_loc\u001b[49m\u001b[43m(\u001b[49m\u001b[43mcasted_key\u001b[49m\u001b[43m)\u001b[49m\n\u001b[1;32m   3803\u001b[0m \u001b[38;5;28;01mexcept\u001b[39;00m \u001b[38;5;167;01mKeyError\u001b[39;00m \u001b[38;5;28;01mas\u001b[39;00m err:\n",
            "File \u001b[0;32m/lib/python3.11/site-packages/pandas/_libs/index.pyx:138\u001b[0m, in \u001b[0;36mpandas._libs.index.IndexEngine.get_loc\u001b[0;34m()\u001b[0m\n",
            "File \u001b[0;32m/lib/python3.11/site-packages/pandas/_libs/index.pyx:165\u001b[0m, in \u001b[0;36mpandas._libs.index.IndexEngine.get_loc\u001b[0;34m()\u001b[0m\n",
            "File \u001b[0;32mpandas/_libs/hashtable_class_helper.pxi:5745\u001b[0m, in \u001b[0;36mpandas._libs.hashtable.PyObjectHashTable.get_item\u001b[0;34m()\u001b[0m\n",
            "File \u001b[0;32mpandas/_libs/hashtable_class_helper.pxi:5753\u001b[0m, in \u001b[0;36mpandas._libs.hashtable.PyObjectHashTable.get_item\u001b[0;34m()\u001b[0m\n",
            "\u001b[0;31mKeyError\u001b[0m: 'Country Name'",
            "\nThe above exception was the direct cause of the following exception:\n",
            "\u001b[0;31mKeyError\u001b[0m                                  Traceback (most recent call last)",
            "Cell \u001b[0;32mIn[29], line 2\u001b[0m\n\u001b[1;32m      1\u001b[0m \u001b[38;5;66;03m# Angenommen, die Spalte heißt \"Country Name\"\u001b[39;00m\n\u001b[0;32m----> 2\u001b[0m indices_deutschland \u001b[38;5;241m=\u001b[39m df[\u001b[43mdf\u001b[49m\u001b[43m[\u001b[49m\u001b[38;5;124;43m'\u001b[39;49m\u001b[38;5;124;43mCountry Name\u001b[39;49m\u001b[38;5;124;43m'\u001b[39;49m\u001b[43m]\u001b[49m \u001b[38;5;241m==\u001b[39m \u001b[38;5;124m'\u001b[39m\u001b[38;5;124mGermany\u001b[39m\u001b[38;5;124m'\u001b[39m]\u001b[38;5;241m.\u001b[39mindex\n\u001b[1;32m      4\u001b[0m \u001b[38;5;66;03m# Anzeigen der Index-Werte\u001b[39;00m\n\u001b[1;32m      5\u001b[0m \u001b[38;5;28mprint\u001b[39m(indices_deutschland)\n",
            "File \u001b[0;32m/lib/python3.11/site-packages/pandas/core/frame.py:3807\u001b[0m, in \u001b[0;36mDataFrame.__getitem__\u001b[0;34m(self, key)\u001b[0m\n\u001b[1;32m   3805\u001b[0m \u001b[38;5;28;01mif\u001b[39;00m \u001b[38;5;28mself\u001b[39m\u001b[38;5;241m.\u001b[39mcolumns\u001b[38;5;241m.\u001b[39mnlevels \u001b[38;5;241m>\u001b[39m \u001b[38;5;241m1\u001b[39m:\n\u001b[1;32m   3806\u001b[0m     \u001b[38;5;28;01mreturn\u001b[39;00m \u001b[38;5;28mself\u001b[39m\u001b[38;5;241m.\u001b[39m_getitem_multilevel(key)\n\u001b[0;32m-> 3807\u001b[0m indexer \u001b[38;5;241m=\u001b[39m \u001b[38;5;28;43mself\u001b[39;49m\u001b[38;5;241;43m.\u001b[39;49m\u001b[43mcolumns\u001b[49m\u001b[38;5;241;43m.\u001b[39;49m\u001b[43mget_loc\u001b[49m\u001b[43m(\u001b[49m\u001b[43mkey\u001b[49m\u001b[43m)\u001b[49m\n\u001b[1;32m   3808\u001b[0m \u001b[38;5;28;01mif\u001b[39;00m is_integer(indexer):\n\u001b[1;32m   3809\u001b[0m     indexer \u001b[38;5;241m=\u001b[39m [indexer]\n",
            "File \u001b[0;32m/lib/python3.11/site-packages/pandas/core/indexes/base.py:3804\u001b[0m, in \u001b[0;36mIndex.get_loc\u001b[0;34m(self, key, method, tolerance)\u001b[0m\n\u001b[1;32m   3802\u001b[0m     \u001b[38;5;28;01mreturn\u001b[39;00m \u001b[38;5;28mself\u001b[39m\u001b[38;5;241m.\u001b[39m_engine\u001b[38;5;241m.\u001b[39mget_loc(casted_key)\n\u001b[1;32m   3803\u001b[0m \u001b[38;5;28;01mexcept\u001b[39;00m \u001b[38;5;167;01mKeyError\u001b[39;00m \u001b[38;5;28;01mas\u001b[39;00m err:\n\u001b[0;32m-> 3804\u001b[0m     \u001b[38;5;28;01mraise\u001b[39;00m \u001b[38;5;167;01mKeyError\u001b[39;00m(key) \u001b[38;5;28;01mfrom\u001b[39;00m \u001b[38;5;21;01merr\u001b[39;00m\n\u001b[1;32m   3805\u001b[0m \u001b[38;5;28;01mexcept\u001b[39;00m \u001b[38;5;167;01mTypeError\u001b[39;00m:\n\u001b[1;32m   3806\u001b[0m     \u001b[38;5;66;03m# If we have a listlike key, _check_indexing_error will raise\u001b[39;00m\n\u001b[1;32m   3807\u001b[0m     \u001b[38;5;66;03m#  InvalidIndexError. Otherwise we fall through and re-raise\u001b[39;00m\n\u001b[1;32m   3808\u001b[0m     \u001b[38;5;66;03m#  the TypeError.\u001b[39;00m\n\u001b[1;32m   3809\u001b[0m     \u001b[38;5;28mself\u001b[39m\u001b[38;5;241m.\u001b[39m_check_indexing_error(key)\n",
            "\u001b[0;31mKeyError\u001b[0m: 'Country Name'"
          ],
          "output_type": "error"
        }
      ],
      "execution_count": 29
    },
    {
      "cell_type": "code",
      "source": "# Finde die Indexpositionen für Zeilen, die 'Germany' enthalten\nindices_deutschland = df[df['Country name'] == 'Germany'].index.tolist()\n\n# Anzeigen der gefundenen Indexpositionen\nprint(\"Indexpositionen von Deutschland im DataFrame:\", indices_deutschland)\n",
      "metadata": {
        "trusted": true
      },
      "outputs": [
        {
          "name": "stdout",
          "text": "Indexpositionen von Deutschland im DataFrame: [12]\n",
          "output_type": "stream"
        }
      ],
      "execution_count": 30
    },
    {
      "cell_type": "code",
      "source": "deutschland_zeilen = df.iloc[indices_deutschland]\n\n# Anzeigen dieser Zeilen\ndeutschland_zeilen",
      "metadata": {
        "trusted": true
      },
      "outputs": [
        {
          "execution_count": 32,
          "output_type": "execute_result",
          "data": {
            "text/plain": "   Country name Regional indicator  Ladder score  \\\n12      Germany     Western Europe         7.155   \n\n    Standard error of ladder score  upperwhisker  lowerwhisker  \\\n12                            0.04         7.232         7.077   \n\n    Logged GDP per capita  Social support  Healthy life expectancy  \\\n12                 10.873           0.903                     72.5   \n\n    Freedom to make life choices  Generosity  Perceptions of corruption  \\\n12                         0.875       0.011                       0.46   \n\n    Ladder score in Dystopia  Explained by: Log GDP per capita  \\\n12                      2.43                              1.48   \n\n    Explained by: Social support  Explained by: Healthy life expectancy  \\\n12                         0.993                                  0.757   \n\n    Explained by: Freedom to make life choices  Explained by: Generosity  \\\n12                                         0.6                     0.195   \n\n    Explained by: Perceptions of corruption  Dystopia + residual  \n12                                    0.306                2.824  ",
            "text/html": "<div>\n<style scoped>\n    .dataframe tbody tr th:only-of-type {\n        vertical-align: middle;\n    }\n\n    .dataframe tbody tr th {\n        vertical-align: top;\n    }\n\n    .dataframe thead th {\n        text-align: right;\n    }\n</style>\n<table border=\"1\" class=\"dataframe\">\n  <thead>\n    <tr style=\"text-align: right;\">\n      <th></th>\n      <th>Country name</th>\n      <th>Regional indicator</th>\n      <th>Ladder score</th>\n      <th>Standard error of ladder score</th>\n      <th>upperwhisker</th>\n      <th>lowerwhisker</th>\n      <th>Logged GDP per capita</th>\n      <th>Social support</th>\n      <th>Healthy life expectancy</th>\n      <th>Freedom to make life choices</th>\n      <th>Generosity</th>\n      <th>Perceptions of corruption</th>\n      <th>Ladder score in Dystopia</th>\n      <th>Explained by: Log GDP per capita</th>\n      <th>Explained by: Social support</th>\n      <th>Explained by: Healthy life expectancy</th>\n      <th>Explained by: Freedom to make life choices</th>\n      <th>Explained by: Generosity</th>\n      <th>Explained by: Perceptions of corruption</th>\n      <th>Dystopia + residual</th>\n    </tr>\n  </thead>\n  <tbody>\n    <tr>\n      <th>12</th>\n      <td>Germany</td>\n      <td>Western Europe</td>\n      <td>7.155</td>\n      <td>0.04</td>\n      <td>7.232</td>\n      <td>7.077</td>\n      <td>10.873</td>\n      <td>0.903</td>\n      <td>72.5</td>\n      <td>0.875</td>\n      <td>0.011</td>\n      <td>0.46</td>\n      <td>2.43</td>\n      <td>1.48</td>\n      <td>0.993</td>\n      <td>0.757</td>\n      <td>0.6</td>\n      <td>0.195</td>\n      <td>0.306</td>\n      <td>2.824</td>\n    </tr>\n  </tbody>\n</table>\n</div>"
          },
          "metadata": {}
        }
      ],
      "execution_count": 32
    },
    {
      "cell_type": "code",
      "source": "deutschland_zeile = df.loc[df['Country name'] == 'Deutschland']",
      "metadata": {
        "trusted": true
      },
      "outputs": [],
      "execution_count": 33
    },
    {
      "cell_type": "code",
      "source": "deutschland_zeile",
      "metadata": {
        "trusted": true
      },
      "outputs": [
        {
          "execution_count": 34,
          "output_type": "execute_result",
          "data": {
            "text/plain": "Empty DataFrame\nColumns: [Country name, Regional indicator, Ladder score, Standard error of ladder score, upperwhisker, lowerwhisker, Logged GDP per capita, Social support, Healthy life expectancy, Freedom to make life choices, Generosity, Perceptions of corruption, Ladder score in Dystopia, Explained by: Log GDP per capita, Explained by: Social support, Explained by: Healthy life expectancy, Explained by: Freedom to make life choices, Explained by: Generosity, Explained by: Perceptions of corruption, Dystopia + residual]\nIndex: []",
            "text/html": "<div>\n<style scoped>\n    .dataframe tbody tr th:only-of-type {\n        vertical-align: middle;\n    }\n\n    .dataframe tbody tr th {\n        vertical-align: top;\n    }\n\n    .dataframe thead th {\n        text-align: right;\n    }\n</style>\n<table border=\"1\" class=\"dataframe\">\n  <thead>\n    <tr style=\"text-align: right;\">\n      <th></th>\n      <th>Country name</th>\n      <th>Regional indicator</th>\n      <th>Ladder score</th>\n      <th>Standard error of ladder score</th>\n      <th>upperwhisker</th>\n      <th>lowerwhisker</th>\n      <th>Logged GDP per capita</th>\n      <th>Social support</th>\n      <th>Healthy life expectancy</th>\n      <th>Freedom to make life choices</th>\n      <th>Generosity</th>\n      <th>Perceptions of corruption</th>\n      <th>Ladder score in Dystopia</th>\n      <th>Explained by: Log GDP per capita</th>\n      <th>Explained by: Social support</th>\n      <th>Explained by: Healthy life expectancy</th>\n      <th>Explained by: Freedom to make life choices</th>\n      <th>Explained by: Generosity</th>\n      <th>Explained by: Perceptions of corruption</th>\n      <th>Dystopia + residual</th>\n    </tr>\n  </thead>\n  <tbody>\n  </tbody>\n</table>\n</div>"
          },
          "metadata": {}
        }
      ],
      "execution_count": 34
    },
    {
      "cell_type": "code",
      "source": "",
      "metadata": {
        "trusted": true
      },
      "outputs": [],
      "execution_count": null
    }
  ]
}